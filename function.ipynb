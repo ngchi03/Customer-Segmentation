{
 "cells": [
  {
   "cell_type": "markdown",
   "id": "7345463a",
   "metadata": {},
   "source": [
    "# Importing The Libraries"
   ]
  },
  {
   "cell_type": "code",
   "execution_count": 1,
   "id": "40fcbbdf",
   "metadata": {},
   "outputs": [],
   "source": [
    "# Core Libraries.\n",
    "import pandas as pd\n",
    "import numpy as np\n",
    "import datetime as dt\n",
    "\n",
    "#Visualization\n",
    "import matplotlib.pyplot as plt\n",
    "import matplotlib\n",
    "%matplotlib inline\n",
    "import seaborn as sns\n",
    "from yellowbrick.cluster import KElbowVisualizer\n",
    "from sklearn.preprocessing import LabelEncoder\n",
    "from sklearn.preprocessing import StandardScaler\n",
    "from sklearn.cluster import KMeans\n",
    "from sklearn.metrics import silhouette_score\n",
    "from yellowbrick.cluster import SilhouetteVisualizer\n",
    "\n",
    "#Precison Handling settings\n",
    "pd.set_option('display.max_columns', None)\n",
    "pd.set_option('display.max_rows', None)\n",
    "pd.set_option('display.width', 160)\n",
    "pd.set_option('display.float_format', lambda x: '%.3f' % x)\n",
    "\n",
    "import warnings\n",
    "warnings.simplefilter(action='ignore', category=FutureWarning)"
   ]
  },
  {
   "cell_type": "markdown",
   "id": "b4e04550",
   "metadata": {},
   "source": [
    "# Function for EDA"
   ]
  },
  {
   "cell_type": "code",
   "execution_count": 2,
   "id": "2ad76432",
   "metadata": {},
   "outputs": [],
   "source": [
    "def data_overview1(df, head=5):\n",
    "    print(\" SHAPE OF DATASET \".center(125,'-'))\n",
    "    print('Rows: {}'.format(df.shape[0]))\n",
    "    print('Columns: {}'.format(df.shape[1]))\n",
    "    print('Shape of Dataset: {}'.format(df.shape))\n",
    "    \n",
    "    print(\"DATA TYPES\".center(125,'-'))\n",
    "    print(df.dtypes.value_counts())\n",
    "    \n",
    "    print(\" MISSING VALUES \".center(125,'-'))\n",
    "    print(df.isnull().sum()[df.isnull().sum()>0].sort_values(ascending = False))\n",
    "    \n",
    "    print(\" DUPLICATED VALUES \".center(125,'-'))\n",
    "    print(df.duplicated().sum())\n",
    "    \n",
    "    print(\"DATA INFO\".center(125,'-'))\n",
    "    print(df.info())"
   ]
  },
  {
   "cell_type": "code",
   "execution_count": 3,
   "id": "02481acb",
   "metadata": {},
   "outputs": [],
   "source": [
    "def data_overview2(df, head=5):\n",
    "    print(\" SHAPE OF DATASET \".center(125,'-'))\n",
    "    print('Shape of Dataset: {}'.format(df.shape))\n",
    "    \n",
    "    print(\"DATA TYPES\".center(125,'-'))\n",
    "    print(df.dtypes.value_counts())\n",
    "    \n",
    "    print(\"DATA INFO\".center(125,'-'))\n",
    "    print(df.info())"
   ]
  },
  {
   "cell_type": "code",
   "execution_count": 4,
   "id": "4b329bf9",
   "metadata": {},
   "outputs": [],
   "source": [
    "def outlier_thresholds(df, variable):\n",
    "    quartile1 = df[variable].quantile(0.01)\n",
    "    quartile3 = df[variable].quantile(0.99)\n",
    "    interquantile_range = quartile3 - quartile1\n",
    "    up_limit = quartile3 + 1.5 * interquantile_range\n",
    "    low_limit = quartile1 - 1.5 * interquantile_range\n",
    "    return up_limit, low_limit"
   ]
  },
  {
   "cell_type": "code",
   "execution_count": 5,
   "id": "4674d91e",
   "metadata": {},
   "outputs": [],
   "source": [
    "def replace_with_threshold(df, variable):\n",
    "    up_limit, low_limit = outlier_thresholds(df, variable)\n",
    "    # df.loc[(df[variable] < low_limit), variable] = low_limit\n",
    "    df.loc[(df[variable] > up_limit), variable] = up_limit"
   ]
  },
  {
   "cell_type": "markdown",
   "id": "82f587ae",
   "metadata": {},
   "source": [
    "# Function for Modelling"
   ]
  },
  {
   "cell_type": "code",
   "execution_count": 6,
   "id": "b051bf5d",
   "metadata": {},
   "outputs": [],
   "source": [
    "def compute_silhouette_scores(df, cluster_list=[2, 3, 4, 5]):\n",
    "    fig, ax = plt.subplots(3, 2, figsize=(15,8))\n",
    "    for i in cluster_list:\n",
    "        km = KMeans(n_clusters=i, init='k-means++', n_init=10, max_iter=100, random_state=42)\n",
    "        q, mod = divmod(i, 2)\n",
    "        visualizer = SilhouetteVisualizer(km, colors='yellowbrick', ax=ax[q-1][mod])\n",
    "        visualizer.fit(df)\n",
    "        silhouette_avg = silhouette_score(df, km.labels_)\n",
    "        print(\"For n_clusters =\", i, \"The average silhouette_score is :\", silhouette_avg)"
   ]
  },
  {
   "cell_type": "code",
   "execution_count": 7,
   "id": "492f9269",
   "metadata": {},
   "outputs": [],
   "source": [
    "def plot_clusters(one, two, three, four, kmeans):\n",
    "    # Checking the quality of clustering in the data set\n",
    "    plt.figure(figsize=(10,5))\n",
    "    ax = plt.axes()\n",
    "    plt.scatter(one[\"Recency\"],one[\"Frequency\"],color='green')\n",
    "    plt.scatter(two[\"Recency\"],two[\"Frequency\"],color='red')\n",
    "    plt.scatter(three[\"Recency\"],three[\"Frequency\"],color='grey')\n",
    "    plt.scatter(four[\"Recency\"],four[\"Frequency\"],color='blue')\n",
    "    plt.scatter(kmeans.cluster_centers_[:,0],kmeans.cluster_centers_[:,1],color=\"yellow\",marker=\"*\",label=\"centroid\")\n",
    "    plt.legend()\n",
    "    plt.show()"
   ]
  },
  {
   "cell_type": "code",
   "execution_count": 8,
   "id": "56d2da85",
   "metadata": {},
   "outputs": [],
   "source": [
    "def plot_metrics_vs_clusters(df, lists):\n",
    "    sns.set(rc={\"figure.figsize\":(8, 4)})\n",
    "    \n",
    "    for metric in lists:\n",
    "        sns.boxplot(x=\"Clusters\", y=metric, data=df).set_title(f\"{metric} v/s Clusters\")\n",
    "        plt.show()"
   ]
  },
  {
   "cell_type": "code",
   "execution_count": 9,
   "id": "127324e8",
   "metadata": {},
   "outputs": [],
   "source": [
    "metrics = ['euclidean', 'manhattan', 'cosine', 'chebyshev', 'minkowski', 'sqeuclidean', 'seuclidean', 'mahalanobis', 'correlation']\n",
    "\n",
    "def print_silhouette_scores(data, labels, metrics):\n",
    "    for metric in metrics:\n",
    "        score = silhouette_score(data, labels, metric=metric)\n",
    "        print(f\"Silhouette score with {metric} metric: {score}\")"
   ]
  },
  {
   "cell_type": "code",
   "execution_count": 10,
   "id": "47bc5147",
   "metadata": {},
   "outputs": [],
   "source": [
    "def plot_segment_counts(clusters, titles):\n",
    "    sns.set(rc={\"figure.figsize\":(20, 4)})\n",
    "    for i in range(0, len(clusters), 2):\n",
    "        fig, ax = plt.subplots(1, 2)\n",
    "        sns.countplot(x=\"Segment\", data=clusters[i], ax=ax[0]).set_title(titles[i])\n",
    "        if i+1 < len(clusters):\n",
    "            sns.countplot(x=\"Segment\", data=clusters[i+1], ax=ax[1]).set_title(titles[i+1])\n",
    "        fig.show()"
   ]
  }
 ],
 "metadata": {
  "kernelspec": {
   "display_name": "Python 3 (ipykernel)",
   "language": "python",
   "name": "python3"
  },
  "language_info": {
   "codemirror_mode": {
    "name": "ipython",
    "version": 3
   },
   "file_extension": ".py",
   "mimetype": "text/x-python",
   "name": "python",
   "nbconvert_exporter": "python",
   "pygments_lexer": "ipython3",
   "version": "3.11.5"
  }
 },
 "nbformat": 4,
 "nbformat_minor": 5
}
