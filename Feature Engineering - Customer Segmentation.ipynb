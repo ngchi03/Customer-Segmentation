{
 "cells": [
  {
   "cell_type": "markdown",
   "id": "52ce8837",
   "metadata": {},
   "source": [
    "# Importing The Libraries"
   ]
  },
  {
   "cell_type": "code",
   "execution_count": 1,
   "id": "ef5a9d83",
   "metadata": {},
   "outputs": [],
   "source": [
    "# Core Libraries.\n",
    "import pandas as pd\n",
    "import numpy as np\n",
    "import datetime as dt\n",
    "\n",
    "#Visualization\n",
    "import matplotlib.pyplot as plt\n",
    "import matplotlib\n",
    "%matplotlib inline\n",
    "import seaborn as sns\n",
    "from yellowbrick.cluster import KElbowVisualizer\n",
    "from sklearn.preprocessing import LabelEncoder\n",
    "from sklearn.preprocessing import StandardScaler\n",
    "from sklearn.cluster import KMeans\n",
    "\n",
    "#Precison Handling settings\n",
    "pd.set_option('display.max_columns', None)\n",
    "pd.set_option('display.max_rows', None)\n",
    "pd.set_option('display.width', 160)\n",
    "pd.set_option('display.float_format', lambda x: '%.3f' % x)\n",
    "\n",
    "import warnings\n",
    "warnings.simplefilter(action='ignore', category=FutureWarning)"
   ]
  },
  {
   "cell_type": "markdown",
   "id": "b89d65d1",
   "metadata": {},
   "source": [
    "# Loading and Reading the Dataset "
   ]
  },
  {
   "cell_type": "code",
   "execution_count": 2,
   "id": "c4c52d04",
   "metadata": {},
   "outputs": [
    {
     "data": {
      "text/html": [
       "<div>\n",
       "<style scoped>\n",
       "    .dataframe tbody tr th:only-of-type {\n",
       "        vertical-align: middle;\n",
       "    }\n",
       "\n",
       "    .dataframe tbody tr th {\n",
       "        vertical-align: top;\n",
       "    }\n",
       "\n",
       "    .dataframe thead th {\n",
       "        text-align: right;\n",
       "    }\n",
       "</style>\n",
       "<table border=\"1\" class=\"dataframe\">\n",
       "  <thead>\n",
       "    <tr style=\"text-align: right;\">\n",
       "      <th></th>\n",
       "      <th>Invoice</th>\n",
       "      <th>StockCode</th>\n",
       "      <th>Description</th>\n",
       "      <th>Quantity</th>\n",
       "      <th>InvoiceDate</th>\n",
       "      <th>Price</th>\n",
       "      <th>Customer ID</th>\n",
       "      <th>Country</th>\n",
       "    </tr>\n",
       "  </thead>\n",
       "  <tbody>\n",
       "    <tr>\n",
       "      <th>0</th>\n",
       "      <td>489434</td>\n",
       "      <td>85048</td>\n",
       "      <td>15CM CHRISTMAS GLASS BALL 20 LIGHTS</td>\n",
       "      <td>12.000</td>\n",
       "      <td>2009-12-01 07:45:00</td>\n",
       "      <td>6.950</td>\n",
       "      <td>13085.000</td>\n",
       "      <td>United Kingdom</td>\n",
       "    </tr>\n",
       "    <tr>\n",
       "      <th>1</th>\n",
       "      <td>489434</td>\n",
       "      <td>79323P</td>\n",
       "      <td>PINK CHERRY LIGHTS</td>\n",
       "      <td>12.000</td>\n",
       "      <td>2009-12-01 07:45:00</td>\n",
       "      <td>6.750</td>\n",
       "      <td>13085.000</td>\n",
       "      <td>United Kingdom</td>\n",
       "    </tr>\n",
       "    <tr>\n",
       "      <th>2</th>\n",
       "      <td>489434</td>\n",
       "      <td>79323W</td>\n",
       "      <td>WHITE CHERRY LIGHTS</td>\n",
       "      <td>12.000</td>\n",
       "      <td>2009-12-01 07:45:00</td>\n",
       "      <td>6.750</td>\n",
       "      <td>13085.000</td>\n",
       "      <td>United Kingdom</td>\n",
       "    </tr>\n",
       "    <tr>\n",
       "      <th>3</th>\n",
       "      <td>489434</td>\n",
       "      <td>22041</td>\n",
       "      <td>RECORD FRAME 7\" SINGLE SIZE</td>\n",
       "      <td>48.000</td>\n",
       "      <td>2009-12-01 07:45:00</td>\n",
       "      <td>2.100</td>\n",
       "      <td>13085.000</td>\n",
       "      <td>United Kingdom</td>\n",
       "    </tr>\n",
       "    <tr>\n",
       "      <th>4</th>\n",
       "      <td>489434</td>\n",
       "      <td>21232</td>\n",
       "      <td>STRAWBERRY CERAMIC TRINKET BOX</td>\n",
       "      <td>24.000</td>\n",
       "      <td>2009-12-01 07:45:00</td>\n",
       "      <td>1.250</td>\n",
       "      <td>13085.000</td>\n",
       "      <td>United Kingdom</td>\n",
       "    </tr>\n",
       "  </tbody>\n",
       "</table>\n",
       "</div>"
      ],
      "text/plain": [
       "   Invoice StockCode                          Description  Quantity          InvoiceDate  Price  Customer ID         Country\n",
       "0   489434     85048  15CM CHRISTMAS GLASS BALL 20 LIGHTS    12.000  2009-12-01 07:45:00  6.950    13085.000  United Kingdom\n",
       "1   489434    79323P                   PINK CHERRY LIGHTS    12.000  2009-12-01 07:45:00  6.750    13085.000  United Kingdom\n",
       "2   489434    79323W                  WHITE CHERRY LIGHTS    12.000  2009-12-01 07:45:00  6.750    13085.000  United Kingdom\n",
       "3   489434     22041         RECORD FRAME 7\" SINGLE SIZE     48.000  2009-12-01 07:45:00  2.100    13085.000  United Kingdom\n",
       "4   489434     21232       STRAWBERRY CERAMIC TRINKET BOX    24.000  2009-12-01 07:45:00  1.250    13085.000  United Kingdom"
      ]
     },
     "execution_count": 2,
     "metadata": {},
     "output_type": "execute_result"
    }
   ],
   "source": [
    "df = pd.read_csv(r\"C:\\Users\\HP\\OneDrive - National Economics University\\Study NEU\\DBA\\Project 2\\dataset.csv\")\n",
    "df.head()"
   ]
  },
  {
   "cell_type": "markdown",
   "id": "6569d519",
   "metadata": {},
   "source": [
    "# Overview of Dataset"
   ]
  },
  {
   "cell_type": "code",
   "execution_count": 3,
   "id": "42fecbdf",
   "metadata": {
    "scrolled": true
   },
   "outputs": [
    {
     "data": {
      "text/plain": [
       "(779495, 8)"
      ]
     },
     "execution_count": 3,
     "metadata": {},
     "output_type": "execute_result"
    }
   ],
   "source": [
    "df.shape"
   ]
  },
  {
   "cell_type": "code",
   "execution_count": 4,
   "id": "c386312e",
   "metadata": {},
   "outputs": [
    {
     "data": {
      "text/plain": [
       "object     4\n",
       "float64    3\n",
       "int64      1\n",
       "Name: count, dtype: int64"
      ]
     },
     "execution_count": 4,
     "metadata": {},
     "output_type": "execute_result"
    }
   ],
   "source": [
    "df.dtypes.value_counts()"
   ]
  },
  {
   "cell_type": "code",
   "execution_count": 5,
   "id": "8a4868d3",
   "metadata": {},
   "outputs": [
    {
     "name": "stdout",
     "output_type": "stream",
     "text": [
      "<class 'pandas.core.frame.DataFrame'>\n",
      "RangeIndex: 779495 entries, 0 to 779494\n",
      "Data columns (total 8 columns):\n",
      " #   Column       Non-Null Count   Dtype  \n",
      "---  ------       --------------   -----  \n",
      " 0   Invoice      779495 non-null  int64  \n",
      " 1   StockCode    779495 non-null  object \n",
      " 2   Description  779495 non-null  object \n",
      " 3   Quantity     779495 non-null  float64\n",
      " 4   InvoiceDate  779495 non-null  object \n",
      " 5   Price        779495 non-null  float64\n",
      " 6   Customer ID  779495 non-null  float64\n",
      " 7   Country      779495 non-null  object \n",
      "dtypes: float64(3), int64(1), object(4)\n",
      "memory usage: 47.6+ MB\n"
     ]
    }
   ],
   "source": [
    "df.info()"
   ]
  },
  {
   "cell_type": "markdown",
   "id": "8030868a",
   "metadata": {},
   "source": [
    "# Feature Engineering"
   ]
  },
  {
   "cell_type": "code",
   "execution_count": 6,
   "id": "3ed4a462",
   "metadata": {},
   "outputs": [],
   "source": [
    "#Creating new feature Revenue\n",
    "\n",
    "df[\"Revenue\"] = df[\"Quantity\"] * df[\"Price\"]"
   ]
  },
  {
   "cell_type": "code",
   "execution_count": 7,
   "id": "08c1b115",
   "metadata": {},
   "outputs": [],
   "source": [
    "#Changing data type to datetime\n",
    "\n",
    "df['InvoiceDate'] = pd.to_datetime(df['InvoiceDate'])"
   ]
  },
  {
   "cell_type": "code",
   "execution_count": 8,
   "id": "6e6a7fb4",
   "metadata": {},
   "outputs": [
    {
     "name": "stdout",
     "output_type": "stream",
     "text": [
      "Max date: 2011-12-09 12:50:00\n",
      "Min date: 2009-12-01 07:45:00\n"
     ]
    }
   ],
   "source": [
    "print(\"Max date:\", df[\"InvoiceDate\"].max())\n",
    "print(\"Min date:\", df[\"InvoiceDate\"].min())"
   ]
  },
  {
   "cell_type": "markdown",
   "id": "4894ff1b",
   "metadata": {},
   "source": [
    "## RFM Featuring"
   ]
  },
  {
   "cell_type": "code",
   "execution_count": 9,
   "id": "7e588752",
   "metadata": {},
   "outputs": [],
   "source": [
    "#Set Latest date 2011-12-10 as last invoice date was 2011-12-09.\n",
    "Latest_Date = dt.datetime(2011,12,10)"
   ]
  },
  {
   "cell_type": "code",
   "execution_count": 10,
   "id": "0032f6a8",
   "metadata": {},
   "outputs": [],
   "source": [
    "#Creating RFM features with subset of customerID\n",
    "\n",
    "RFM = df.groupby('Customer ID').agg({'InvoiceDate': lambda x: (Latest_Date - x.max()).days, \n",
    "                                                 'Invoice': lambda x: x.nunique(), \n",
    "                                                 \"Revenue\": lambda x: x.sum()})"
   ]
  },
  {
   "cell_type": "code",
   "execution_count": 11,
   "id": "e49e8f23",
   "metadata": {},
   "outputs": [],
   "source": [
    "RFM['InvoiceDate'] = RFM['InvoiceDate'].astype(int)"
   ]
  },
  {
   "cell_type": "code",
   "execution_count": 12,
   "id": "da06ac04",
   "metadata": {},
   "outputs": [],
   "source": [
    "#Renaming column names to Recency, Frequency and Monetary\n",
    "\n",
    "RFM.rename(columns={'InvoiceDate': 'Recency', \n",
    "                         'Invoice': 'Frequency', \n",
    "                         'Revenue': 'Monetary'}, inplace=True)"
   ]
  },
  {
   "cell_type": "code",
   "execution_count": 13,
   "id": "c7855c0c",
   "metadata": {},
   "outputs": [
    {
     "data": {
      "text/html": [
       "<div>\n",
       "<style scoped>\n",
       "    .dataframe tbody tr th:only-of-type {\n",
       "        vertical-align: middle;\n",
       "    }\n",
       "\n",
       "    .dataframe tbody tr th {\n",
       "        vertical-align: top;\n",
       "    }\n",
       "\n",
       "    .dataframe thead th {\n",
       "        text-align: right;\n",
       "    }\n",
       "</style>\n",
       "<table border=\"1\" class=\"dataframe\">\n",
       "  <thead>\n",
       "    <tr style=\"text-align: right;\">\n",
       "      <th></th>\n",
       "      <th>Customer ID</th>\n",
       "      <th>Recency</th>\n",
       "      <th>Frequency</th>\n",
       "      <th>Monetary</th>\n",
       "    </tr>\n",
       "  </thead>\n",
       "  <tbody>\n",
       "    <tr>\n",
       "      <th>0</th>\n",
       "      <td>12346.000</td>\n",
       "      <td>325</td>\n",
       "      <td>12</td>\n",
       "      <td>745.700</td>\n",
       "    </tr>\n",
       "    <tr>\n",
       "      <th>1</th>\n",
       "      <td>12347.000</td>\n",
       "      <td>2</td>\n",
       "      <td>8</td>\n",
       "      <td>4921.530</td>\n",
       "    </tr>\n",
       "    <tr>\n",
       "      <th>2</th>\n",
       "      <td>12348.000</td>\n",
       "      <td>75</td>\n",
       "      <td>5</td>\n",
       "      <td>1991.860</td>\n",
       "    </tr>\n",
       "    <tr>\n",
       "      <th>3</th>\n",
       "      <td>12349.000</td>\n",
       "      <td>18</td>\n",
       "      <td>4</td>\n",
       "      <td>3786.500</td>\n",
       "    </tr>\n",
       "    <tr>\n",
       "      <th>4</th>\n",
       "      <td>12350.000</td>\n",
       "      <td>310</td>\n",
       "      <td>1</td>\n",
       "      <td>331.340</td>\n",
       "    </tr>\n",
       "  </tbody>\n",
       "</table>\n",
       "</div>"
      ],
      "text/plain": [
       "   Customer ID  Recency  Frequency  Monetary\n",
       "0    12346.000      325         12   745.700\n",
       "1    12347.000        2          8  4921.530\n",
       "2    12348.000       75          5  1991.860\n",
       "3    12349.000       18          4  3786.500\n",
       "4    12350.000      310          1   331.340"
      ]
     },
     "execution_count": 13,
     "metadata": {},
     "output_type": "execute_result"
    }
   ],
   "source": [
    "RFM.reset_index().head()"
   ]
  },
  {
   "cell_type": "markdown",
   "id": "04d04d9e",
   "metadata": {},
   "source": [
    "### New Feature: InterPurchase Time\n",
    "\n",
    "The Fourth varibale of RFM, InterPurchase Time, is a measure of average time gap between total shopping trips by a customer. The Interpurchase Time is calcluted as fallows :\n",
    "\n",
    "$$T = \\frac{L}{F-1} = \\frac{T_n - T_1}{F-1}$$\n",
    "\n",
    "- $T$: Interpurchase Time\n",
    "- $L$: Shopping Cycle\n",
    "- $F$: Frequency\n",
    "- $T_1$: First purchase\n",
    "- $T_n$: Last purchase\n",
    "\n",
    "Note: We consider only those customers who made purchase more than once."
   ]
  },
  {
   "cell_type": "code",
   "execution_count": 14,
   "id": "1e99a842",
   "metadata": {},
   "outputs": [],
   "source": [
    "RFM = RFM[(RFM[\"Frequency\"]>1)]"
   ]
  },
  {
   "cell_type": "code",
   "execution_count": 15,
   "id": "e123b8ea",
   "metadata": {},
   "outputs": [
    {
     "data": {
      "text/html": [
       "<div>\n",
       "<style scoped>\n",
       "    .dataframe tbody tr th:only-of-type {\n",
       "        vertical-align: middle;\n",
       "    }\n",
       "\n",
       "    .dataframe tbody tr th {\n",
       "        vertical-align: top;\n",
       "    }\n",
       "\n",
       "    .dataframe thead th {\n",
       "        text-align: right;\n",
       "    }\n",
       "</style>\n",
       "<table border=\"1\" class=\"dataframe\">\n",
       "  <thead>\n",
       "    <tr style=\"text-align: right;\">\n",
       "      <th></th>\n",
       "      <th>Recency</th>\n",
       "      <th>Frequency</th>\n",
       "      <th>Monetary</th>\n",
       "    </tr>\n",
       "    <tr>\n",
       "      <th>Customer ID</th>\n",
       "      <th></th>\n",
       "      <th></th>\n",
       "      <th></th>\n",
       "    </tr>\n",
       "  </thead>\n",
       "  <tbody>\n",
       "    <tr>\n",
       "      <th>12346.000</th>\n",
       "      <td>325</td>\n",
       "      <td>12</td>\n",
       "      <td>745.700</td>\n",
       "    </tr>\n",
       "    <tr>\n",
       "      <th>12347.000</th>\n",
       "      <td>2</td>\n",
       "      <td>8</td>\n",
       "      <td>4921.530</td>\n",
       "    </tr>\n",
       "    <tr>\n",
       "      <th>12348.000</th>\n",
       "      <td>75</td>\n",
       "      <td>5</td>\n",
       "      <td>1991.860</td>\n",
       "    </tr>\n",
       "    <tr>\n",
       "      <th>12349.000</th>\n",
       "      <td>18</td>\n",
       "      <td>4</td>\n",
       "      <td>3786.500</td>\n",
       "    </tr>\n",
       "    <tr>\n",
       "      <th>12352.000</th>\n",
       "      <td>36</td>\n",
       "      <td>10</td>\n",
       "      <td>2098.940</td>\n",
       "    </tr>\n",
       "  </tbody>\n",
       "</table>\n",
       "</div>"
      ],
      "text/plain": [
       "             Recency  Frequency  Monetary\n",
       "Customer ID                              \n",
       "12346.000        325         12   745.700\n",
       "12347.000          2          8  4921.530\n",
       "12348.000         75          5  1991.860\n",
       "12349.000         18          4  3786.500\n",
       "12352.000         36         10  2098.940"
      ]
     },
     "execution_count": 15,
     "metadata": {},
     "output_type": "execute_result"
    }
   ],
   "source": [
    "RFM.head()"
   ]
  },
  {
   "cell_type": "code",
   "execution_count": 16,
   "id": "243520c8",
   "metadata": {},
   "outputs": [],
   "source": [
    "Shopping_Cycle = df.groupby('Customer ID').agg({'InvoiceDate': lambda x: ((x.max() - x.min()).days)})"
   ]
  },
  {
   "cell_type": "code",
   "execution_count": 17,
   "id": "2412b96a",
   "metadata": {},
   "outputs": [],
   "source": [
    "RFM[\"Shopping_Cycle\"] = Shopping_Cycle"
   ]
  },
  {
   "cell_type": "code",
   "execution_count": 18,
   "id": "782f2108",
   "metadata": {},
   "outputs": [
    {
     "data": {
      "text/html": [
       "<div>\n",
       "<style scoped>\n",
       "    .dataframe tbody tr th:only-of-type {\n",
       "        vertical-align: middle;\n",
       "    }\n",
       "\n",
       "    .dataframe tbody tr th {\n",
       "        vertical-align: top;\n",
       "    }\n",
       "\n",
       "    .dataframe thead th {\n",
       "        text-align: right;\n",
       "    }\n",
       "</style>\n",
       "<table border=\"1\" class=\"dataframe\">\n",
       "  <thead>\n",
       "    <tr style=\"text-align: right;\">\n",
       "      <th></th>\n",
       "      <th>Recency</th>\n",
       "      <th>Frequency</th>\n",
       "      <th>Monetary</th>\n",
       "      <th>Shopping_Cycle</th>\n",
       "    </tr>\n",
       "    <tr>\n",
       "      <th>Customer ID</th>\n",
       "      <th></th>\n",
       "      <th></th>\n",
       "      <th></th>\n",
       "      <th></th>\n",
       "    </tr>\n",
       "  </thead>\n",
       "  <tbody>\n",
       "    <tr>\n",
       "      <th>12346.000</th>\n",
       "      <td>325</td>\n",
       "      <td>12</td>\n",
       "      <td>745.700</td>\n",
       "      <td>400</td>\n",
       "    </tr>\n",
       "    <tr>\n",
       "      <th>12347.000</th>\n",
       "      <td>2</td>\n",
       "      <td>8</td>\n",
       "      <td>4921.530</td>\n",
       "      <td>402</td>\n",
       "    </tr>\n",
       "    <tr>\n",
       "      <th>12348.000</th>\n",
       "      <td>75</td>\n",
       "      <td>5</td>\n",
       "      <td>1991.860</td>\n",
       "      <td>362</td>\n",
       "    </tr>\n",
       "    <tr>\n",
       "      <th>12349.000</th>\n",
       "      <td>18</td>\n",
       "      <td>4</td>\n",
       "      <td>3786.500</td>\n",
       "      <td>570</td>\n",
       "    </tr>\n",
       "    <tr>\n",
       "      <th>12352.000</th>\n",
       "      <td>36</td>\n",
       "      <td>10</td>\n",
       "      <td>2098.940</td>\n",
       "      <td>356</td>\n",
       "    </tr>\n",
       "  </tbody>\n",
       "</table>\n",
       "</div>"
      ],
      "text/plain": [
       "             Recency  Frequency  Monetary  Shopping_Cycle\n",
       "Customer ID                                              \n",
       "12346.000        325         12   745.700             400\n",
       "12347.000          2          8  4921.530             402\n",
       "12348.000         75          5  1991.860             362\n",
       "12349.000         18          4  3786.500             570\n",
       "12352.000         36         10  2098.940             356"
      ]
     },
     "execution_count": 18,
     "metadata": {},
     "output_type": "execute_result"
    }
   ],
   "source": [
    "RFM.head()"
   ]
  },
  {
   "cell_type": "code",
   "execution_count": 19,
   "id": "4949fa2e",
   "metadata": {},
   "outputs": [],
   "source": [
    "RFM[\"Interpurchase_Time\"] = RFM[\"Shopping_Cycle\"] // RFM[\"Frequency\"]"
   ]
  },
  {
   "cell_type": "code",
   "execution_count": 20,
   "id": "e2420e04",
   "metadata": {},
   "outputs": [],
   "source": [
    "RFMT = RFM[[\"Recency\", \"Frequency\", \"Monetary\", \"Interpurchase_Time\"]]"
   ]
  },
  {
   "cell_type": "code",
   "execution_count": 21,
   "id": "022220b8",
   "metadata": {
    "scrolled": false
   },
   "outputs": [
    {
     "data": {
      "text/html": [
       "<div>\n",
       "<style scoped>\n",
       "    .dataframe tbody tr th:only-of-type {\n",
       "        vertical-align: middle;\n",
       "    }\n",
       "\n",
       "    .dataframe tbody tr th {\n",
       "        vertical-align: top;\n",
       "    }\n",
       "\n",
       "    .dataframe thead th {\n",
       "        text-align: right;\n",
       "    }\n",
       "</style>\n",
       "<table border=\"1\" class=\"dataframe\">\n",
       "  <thead>\n",
       "    <tr style=\"text-align: right;\">\n",
       "      <th></th>\n",
       "      <th>Recency</th>\n",
       "      <th>Frequency</th>\n",
       "      <th>Monetary</th>\n",
       "      <th>Interpurchase_Time</th>\n",
       "    </tr>\n",
       "    <tr>\n",
       "      <th>Customer ID</th>\n",
       "      <th></th>\n",
       "      <th></th>\n",
       "      <th></th>\n",
       "      <th></th>\n",
       "    </tr>\n",
       "  </thead>\n",
       "  <tbody>\n",
       "    <tr>\n",
       "      <th>12346.000</th>\n",
       "      <td>325</td>\n",
       "      <td>12</td>\n",
       "      <td>745.700</td>\n",
       "      <td>33</td>\n",
       "    </tr>\n",
       "    <tr>\n",
       "      <th>12347.000</th>\n",
       "      <td>2</td>\n",
       "      <td>8</td>\n",
       "      <td>4921.530</td>\n",
       "      <td>50</td>\n",
       "    </tr>\n",
       "    <tr>\n",
       "      <th>12348.000</th>\n",
       "      <td>75</td>\n",
       "      <td>5</td>\n",
       "      <td>1991.860</td>\n",
       "      <td>72</td>\n",
       "    </tr>\n",
       "    <tr>\n",
       "      <th>12349.000</th>\n",
       "      <td>18</td>\n",
       "      <td>4</td>\n",
       "      <td>3786.500</td>\n",
       "      <td>142</td>\n",
       "    </tr>\n",
       "    <tr>\n",
       "      <th>12352.000</th>\n",
       "      <td>36</td>\n",
       "      <td>10</td>\n",
       "      <td>2098.940</td>\n",
       "      <td>35</td>\n",
       "    </tr>\n",
       "  </tbody>\n",
       "</table>\n",
       "</div>"
      ],
      "text/plain": [
       "             Recency  Frequency  Monetary  Interpurchase_Time\n",
       "Customer ID                                                  \n",
       "12346.000        325         12   745.700                  33\n",
       "12347.000          2          8  4921.530                  50\n",
       "12348.000         75          5  1991.860                  72\n",
       "12349.000         18          4  3786.500                 142\n",
       "12352.000         36         10  2098.940                  35"
      ]
     },
     "execution_count": 21,
     "metadata": {},
     "output_type": "execute_result"
    }
   ],
   "source": [
    "RFMT.head()"
   ]
  },
  {
   "cell_type": "code",
   "execution_count": 22,
   "id": "329cdecc",
   "metadata": {},
   "outputs": [
    {
     "data": {
      "text/plain": [
       "(4255, 4)"
      ]
     },
     "execution_count": 22,
     "metadata": {},
     "output_type": "execute_result"
    }
   ],
   "source": [
    "RFMT.shape"
   ]
  },
  {
   "cell_type": "code",
   "execution_count": 23,
   "id": "86d91e2d",
   "metadata": {},
   "outputs": [
    {
     "name": "stdout",
     "output_type": "stream",
     "text": [
      "<class 'pandas.core.frame.DataFrame'>\n",
      "Index: 4255 entries, 12346.0 to 18287.0\n",
      "Data columns (total 4 columns):\n",
      " #   Column              Non-Null Count  Dtype  \n",
      "---  ------              --------------  -----  \n",
      " 0   Recency             4255 non-null   int32  \n",
      " 1   Frequency           4255 non-null   int64  \n",
      " 2   Monetary            4255 non-null   float64\n",
      " 3   Interpurchase_Time  4255 non-null   int64  \n",
      "dtypes: float64(1), int32(1), int64(2)\n",
      "memory usage: 149.6 KB\n"
     ]
    }
   ],
   "source": [
    "RFMT.info()"
   ]
  }
 ],
 "metadata": {
  "kernelspec": {
   "display_name": "Python 3 (ipykernel)",
   "language": "python",
   "name": "python3"
  },
  "language_info": {
   "codemirror_mode": {
    "name": "ipython",
    "version": 3
   },
   "file_extension": ".py",
   "mimetype": "text/x-python",
   "name": "python",
   "nbconvert_exporter": "python",
   "pygments_lexer": "ipython3",
   "version": "3.11.5"
  }
 },
 "nbformat": 4,
 "nbformat_minor": 5
}
